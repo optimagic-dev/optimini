{
 "cells": [
  {
   "cell_type": "markdown",
   "id": "0",
   "metadata": {},
   "source": [
    "# Showcase how optimini is used"
   ]
  },
  {
   "cell_type": "code",
   "execution_count": null,
   "id": "1",
   "metadata": {},
   "outputs": [],
   "source": [
    "import optimini as om\n",
    "\n",
    "\n",
    "def my_fun(params):\n",
    "    return params[\"a\"] ** 2 + params[\"b\"] ** 2\n",
    "\n",
    "\n",
    "params = {\"a\": 1, \"b\": 2}\n",
    "results = {\n",
    "    \"L-BFGS-B\": om.minimize(my_fun, params, method=\"L-BFGS-B\"),\n",
    "    \"Nelder-Mead\": om.minimize(my_fun, params, method=\"Nelder-Mead\"),\n",
    "    \"bobyqa\": om.minimize(my_fun, params, method=\"bobyqa\"),\n",
    "}\n",
    "om.history_plot(results)"
   ]
  }
 ],
 "metadata": {
  "kernelspec": {
   "display_name": "optimini",
   "language": "python",
   "name": "python3"
  },
  "language_info": {
   "codemirror_mode": {
    "name": "ipython",
    "version": 3
   },
   "file_extension": ".py",
   "mimetype": "text/x-python",
   "name": "python",
   "nbconvert_exporter": "python",
   "pygments_lexer": "ipython3",
   "version": "3.12.11"
  }
 },
 "nbformat": 4,
 "nbformat_minor": 5
}
